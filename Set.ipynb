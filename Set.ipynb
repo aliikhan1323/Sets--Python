{
 "cells": [
  {
   "cell_type": "markdown",
   "metadata": {},
   "source": [
    "## 📜 **Understanding Python Sets**\n",
    "This repository provides a demonstration of Python sets, highlighting their key properties:\n",
    "\n",
    "## 📌 **Key Properties**\n",
    "✅ **Unordered** – Elements do not maintain a specific sequence\n",
    "✅ **Immutable Elements** – Once added, individual elements cannot be changed\n",
    "✅ **No Duplicates Allowed** – Identical values are automatically removed\n",
    "\n",
    "### 🔹 **Explanation**\n",
    "- **Set Uniqueness**: Python sets automatically eliminate duplicate values.\n",
    "- **Boolean and Numeric Overlap**: `True` is treated as `1`, and `False` as `0`, making them indistinguishable in a set.\n",
    "- **Unordered Structure**: The order of elements in a set is unpredictable and may vary."
   ]
  },
  {
   "cell_type": "code",
   "execution_count": 1,
   "metadata": {},
   "outputs": [
    {
     "name": "stdout",
     "output_type": "stream",
     "text": [
      "{True, 2, 'Laptop', 'Airpods', 'Mobile'}\n",
      "{False, 2, 'Laptop', 'Airpods', 'Mobile'}\n",
      "{'Airpods', 'Laptop', 'Mobile'}\n"
     ]
    }
   ],
   "source": [
    "#Define a Set (unordered, unchangeable, Duplicate Not Allow)\n",
    "stuuff = {\"Laptop\",\"Mobile\",\"Airpods\", True, 1, 2} #True and 1 is considered the same value: \n",
    "print(stuuff)\n",
    "stuuff1 = {\"Laptop\",\"Mobile\",\"Airpods\", False, 0, 2} #False and 0 is considered the same value: \n",
    "print(stuuff1)\n",
    "stuuff2 = {\"Laptop\",\"Mobile\",\"Airpods\",\"Mobile\"} #Duplicate values will be ignored\n",
    "print(stuuff2)\n"
   ]
  },
  {
   "cell_type": "markdown",
   "metadata": {},
   "source": [
    "📜 **Determining the Length of a Python Set**\n",
    "This repository provides an example of how to determine the number of elements in a Python set using the `len()` function.\n",
    "\n",
    "📌 **Key Concepts**\n",
    "✅ **`len()` Function** – Returns the total number of elements in a set\n",
    "✅ **Unique Elements Only** – Since sets do not allow duplicates, `len()` only counts distinct elements\n",
    "\n",
    "### 🔹 **Explanation**\n",
    "- **Accurate Count**: The `len()` function ensures that only unique elements are counted.\n",
    "- **Duplicate Handling**: Even if duplicate values are included in the set definition, they will not be counted multiple times."
   ]
  },
  {
   "cell_type": "code",
   "execution_count": 2,
   "metadata": {},
   "outputs": [
    {
     "name": "stdout",
     "output_type": "stream",
     "text": [
      "Find the Length of a Set:\n",
      "5\n"
     ]
    }
   ],
   "source": [
    "#Get the Length of a Set\n",
    "print(\"Find the Length of a Set:\")\n",
    "print(len(stuuff))  #use the len() function.\n"
   ]
  },
  {
   "cell_type": "markdown",
   "metadata": {},
   "source": [
    "# 📜 **Exploring Data Types in Python Sets**\n",
    "This repository provides an example of how to determine the data types of elements stored in a Python set using the `type()` function.\n",
    "\n",
    "### 📌 **Key Concepts**\n",
    "### ✅ **Python Sets** – Unordered collections that do not allow duplicate values\n",
    "### ✅ **`type()` Function** – Determines and returns the data type of a variable\n",
    "### ✅ **Mixed Data Types** – Sets can contain elements of different data types\n",
    "\n",
    "### 🔹 **Explanation**\n",
    "- **Set Properties**: Each set contains different types of elements, demonstrating Python's dynamic typing.\n",
    "- **Duplicate Handling**: Python sets automatically remove duplicate values.\n",
    "- **Type Checking**: The `type()` function helps verify the data type of each set."
   ]
  },
  {
   "cell_type": "code",
   "execution_count": 3,
   "metadata": {},
   "outputs": [
    {
     "name": "stdout",
     "output_type": "stream",
     "text": [
      "Find Data Type in set:\n",
      "{'apple', 'cherry', 'banana'} {1, 3, 5, 7, 9} {False, True} {'male', True, 34, 40, 'abc'}\n",
      "<class 'set'>\n",
      "<class 'set'>\n",
      "<class 'set'>\n",
      "<class 'set'>\n"
     ]
    }
   ],
   "source": [
    "#Data Types\n",
    "print(\"Find Data Type in set:\")\n",
    "str = {\"apple\", \"banana\", \"cherry\"}\n",
    "int = {1, 5, 7, 9, 3}\n",
    "bool = {True, False, False} ##Duplicate values will be ignored\n",
    "mix = {\"abc\", 34, True, 40, \"male\"}\n",
    "print(str,int,bool, mix)\n",
    "print(type(str))\n",
    "print(type(int))\n",
    "print(type(bool))\n",
    "print(type(mix))\n"
   ]
  },
  {
   "cell_type": "markdown",
   "metadata": {},
   "source": [
    "📜 **Accessing Elements in Python Sets**\n",
    "This repository provides examples of how to access elements in a Python set using loops and membership operators.\n",
    "\n",
    "📌 **Key Concepts**\n",
    "✅ **Unordered Collection** – Sets do not maintain a specific order\n",
    "✅ **Looping Through a Set** – Use a `for` loop to iterate over elements\n",
    "✅ **Membership Testing** – Use `in` and `not in` operators to check if an element exists\n",
    "\n",
    "### 🔹 **Explanation**\n",
    "- **Accessing a Set**: Since sets are unordered, items cannot be accessed using an index. Instead, you can loop through them.\n",
    "- **Looping**: The `for` loop iterates over each element in the set.\n",
    "- **Membership Check**: The `in` operator verifies if a specific value exists in the set."
   ]
  },
  {
   "cell_type": "code",
   "execution_count": 4,
   "metadata": {},
   "outputs": [
    {
     "name": "stdout",
     "output_type": "stream",
     "text": [
      "Access Set Items:\n",
      "{'apple', 'mango', 'orange', 'banana'}\n",
      "Loop through the set:\n",
      "apple\n",
      "mango\n",
      "orange\n",
      "banana\n",
      "Check if orange is present in set:\n",
      "True\n",
      "Check if orange is not present in set:\n",
      "False\n"
     ]
    }
   ],
   "source": [
    "#Access\n",
    "print(\"Access Set Items:\")\n",
    "fruits={\"apple\",\"banana\",\"mango\",\"orange\"}\n",
    "print(fruits)\n",
    "\n",
    "#Loop through the set, and print the values:\n",
    "print(\"Loop through the set:\") \n",
    "fruits={\"apple\",\"banana\",\"mango\",\"orange\"}\n",
    "for x in fruits:      #Loop\n",
    "  print(x)\n",
    "\n",
    "print(\"Check if orange is present in set:\")\n",
    "fruits={\"apple\",\"banana\",\"mango\",\"orange\"}\n",
    "print(\"orange\" in fruits)      #In\n",
    "\n",
    "\n",
    "print(\"Check if orange is not present in set:\")\n",
    "fruits={\"apple\",\"banana\",\"mango\",\"orange\"}\n",
    "print(\"orange\"not in fruits)     #Not In\n"
   ]
  },
  {
   "cell_type": "markdown",
   "metadata": {},
   "source": [
    "📜 **Adding Items to Python Sets**\n",
    "This repository provides examples of how to add elements to a Python set using the `add()` and `update()` functions.\n",
    "\n",
    "📌 **Key Concepts**\n",
    "✅ **Adding Single Elements** – Use the `add()` function to insert an item\n",
    "✅ **Adding Multiple Elements** – Use the `update()` function to merge another set\n",
    "✅ **Duplicate Handling** – Sets automatically ignore duplicate values\n",
    "\n",
    "### 🔹 **Explanation**\n",
    "- **Using `add()`**: Adds a single item to the set.\n",
    "- **Using `update()`**: Merges another set into the existing one, adding all unique elements.\n",
    "- **Duplicate Management**: If an element already exists in the set, adding it again has no effect."
   ]
  },
  {
   "cell_type": "code",
   "execution_count": 5,
   "metadata": {},
   "outputs": [
    {
     "name": "stdout",
     "output_type": "stream",
     "text": [
      "Addition of items:\n",
      "{'apple', 'mango', 'orange', 'banana'}\n",
      "Addition of sets:\n",
      "{'apple', 'Potato', 'mango', 'orange', 'banana', 'Tomamto', 'onion'}\n"
     ]
    }
   ],
   "source": [
    "#Add Items\n",
    "print(\"Addition of items:\")\n",
    "fruits={\"apple\",\"banana\",\"mango\",\"orange\"}\n",
    "fruits.add(\"orange\")  #using add() function\n",
    "print(fruits)\n",
    "\n",
    "#Add Sets\n",
    "print(\"Addition of sets:\")\n",
    "fruits={\"apple\",\"banana\",\"mango\",\"orange\"}\n",
    "vegetables= {\"onion\",\"Tomamto\",\"Potato\"}\n",
    "fruits.update(vegetables)   #using update() function\n",
    "print(fruits)\n"
   ]
  },
  {
   "cell_type": "markdown",
   "metadata": {},
   "source": [
    "📜 **Removing Items from Python Sets**\n",
    "This repository provides examples of how to remove elements from a Python set using various methods such as `remove()`, `discard()`, `pop()`, `clear()`, and the `del` keyword.\n",
    "\n",
    "📌 **Key Concepts**\n",
    "✅ **`remove()` Function** – Removes an element; raises an error if not found\n",
    "✅ **`discard()` Function** – Removes an element; does not raise an error if not found\n",
    "✅ **`pop()` Function** – Removes a random element\n",
    "✅ **`clear()` Function** – Empties the set completely\n",
    "✅ **`del` Keyword** – Deletes the set entirely\n",
    "\n",
    "### 🔹 **Explanation**\n",
    "- **Using `remove()`**: Removes a specified element but raises an error if the element is not found.\n",
    "- **Using `discard()`**: Removes a specified element but does not raise an error if the element is missing.\n",
    "- **Using `pop()`**: Removes and returns a random element from the set.\n",
    "- **Using `clear()`**: Empties the set, leaving an empty set `{}`.\n",
    "- **Using `del`**: Completely deletes the set from memory."
   ]
  },
  {
   "cell_type": "code",
   "execution_count": 7,
   "metadata": {},
   "outputs": [
    {
     "name": "stdout",
     "output_type": "stream",
     "text": [
      "Remove from items:\n",
      "{'apple', 'mango', 'banana'}\n",
      "Remove from items:\n",
      "{'apple', 'mango', 'banana'}\n",
      "Remove a random item by using the pop() method:\n",
      "apple\n",
      "{'mango', 'orange', 'banana'}\n",
      "Clear the set:\n",
      "set()\n",
      "Delete the set:\n",
      "Set Deleted\n"
     ]
    }
   ],
   "source": [
    "#Remove Items\n",
    "print(\"Remove from items:\")\n",
    "fruits={\"apple\",\"banana\",\"mango\",\"orange\"} #If the item to remove does not exist, remove() function will raise an error\n",
    "fruits.remove(\"orange\")  #using remove() function\n",
    "print(fruits)\n",
    "\n",
    "print(\"Remove from items:\")\n",
    "fruits={\"apple\",\"banana\",\"mango\",\"orange\"} #Remove \"banana\" by using the discard() Function\n",
    "fruits.discard(\"orange\")  #using discard() function\n",
    "print(fruits)\n",
    "\n",
    "#Using a pop() Function\n",
    "print(\"Remove a random item by using the pop() method:\")\n",
    "fruits={\"apple\",\"banana\",\"mango\",\"orange\"}\n",
    "x = fruits.pop()\n",
    "print(x)\n",
    "print(fruits)\n",
    "\n",
    "\n",
    "#using clear() function\n",
    "print(\"Clear the set:\")\n",
    "fruits={\"apple\",\"banana\",\"mango\",\"orange\"}\n",
    "fruits.clear()\n",
    "print(fruits)\n",
    "\n",
    "#Using DEL keyword\n",
    "print(\"Delete the set:\")\n",
    "fruits = {\"apple\", \"banana\", \"cherry\"}\n",
    "del fruits\n",
    "print(\"Set Deleted\") # Ka variable me add ka nu bia ba erroe generate kai.\n"
   ]
  },
  {
   "cell_type": "markdown",
   "metadata": {},
   "source": [
    "📜 **Joining and Intersecting Python Sets**\n",
    "This repository provides examples of how to combine and find common elements in Python sets using `union()`, `|`, `intersection()`, and `&` operators.\n",
    "\n",
    "📌 **Key Concepts**\n",
    "✅ **Joining Sets** – Use `union()` or `|` to merge sets without duplicates\n",
    "✅ **Finding Common Elements** – Use `intersection()` or `&` to get shared values\n",
    "✅ **Handling Multiple Sets** – Union works with multiple sets at once\n",
    "✅ **Combining Different Data Types** – Sets can be merged with tuples\n",
    "\n",
    "### 🔹 **Explanation**\n",
    "- **Using `union()`**: Combines sets, ensuring unique elements.\n",
    "- **Using `|` Operator**: A shorthand alternative to `union()`.\n",
    "- **Joining Multiple Sets**: `union()` can merge more than two sets at once.\n",
    "- **Joining a Set with a Tuple**: Works seamlessly using `union()`.\n",
    "- **Using `intersection()`**: Returns only the elements that exist in both sets.\n",
    "- **Using `&` Operator**: A shorthand for `intersection()`."
   ]
  },
  {
   "cell_type": "code",
   "execution_count": 6,
   "metadata": {},
   "outputs": [
    {
     "name": "stdout",
     "output_type": "stream",
     "text": [
      "This is union list:\n",
      "{1, 'a', 2, 'c', 'b', 3}\n",
      "Use | to join two sets:\n",
      "{1, 'a', 2, 'c', 'b', 3}\n",
      "Multiple sets with the union() method:\n",
      "{'apple', 1, 'a', 2, 'c', 'b', 3, 'Ali', 'Khan', 'bananas', 'cherry'}\n",
      "Join a set with tuple\n",
      "{1, 2, 3, 'Yousafzai', 'Ali Khan'}\n",
      "Intersertion are here:\n",
      "{'apple', 'mango'}\n",
      " & Operator Result are here:\n",
      "{'microsoft', 'mango'}\n"
     ]
    }
   ],
   "source": [
    "#using union() function\n",
    "print(\"This is union list:\")\n",
    "set1 = {\"a\", \"b\", \"c\"}\n",
    "set2 = {1, 2, 3}\n",
    "set3= set1.union(set2)\n",
    "print(set3)\n",
    "\n",
    "\n",
    "print(\"Use | to join two sets:\")\n",
    "set1 = {\"a\", \"b\", \"c\"}\n",
    "set2 = {1, 2, 3}\n",
    "set3 = set1|set2\n",
    "print(set3)\n",
    "\n",
    "#Join multiple sets\n",
    "print(\"Multiple sets with the union() method:\")\n",
    "set1 = {\"a\", \"b\", \"c\"}\n",
    "set2 = {1, 2, 3}\n",
    "set3 = {\"Ali\", \"Khan\"}\n",
    "set4 = {\"apple\", \"bananas\", \"cherry\"}\n",
    "combine = set1.union(set2, set3, set4)\n",
    "print(combine)\n",
    "\n",
    "#Join a set with a tuple\n",
    "print(\"Join a set with tuple\")\n",
    "a={1, 2, 3}\n",
    "b=(\"Ali Khan\", \"Yousafzai\")\n",
    "c = a.union(b)\n",
    "print(c)\n",
    "\n",
    "\n",
    "#Intersection\n",
    "print(\"Intersertion are here:\")\n",
    "set1 = {\"apple\", \"banana\", \"cherry\" ,\"mango\"}\n",
    "set2 = {\"google\", \"mango\",\"microsoft\", \"apple\"}\n",
    "set3 = set1.intersection(set2) #join the sets but keep only the duplicates.\n",
    "print(set3)    \n",
    "\n",
    "\n",
    "# & Operator\n",
    "print(\" & Operator Result are here:\")\n",
    "set1 = {\"microsoft\", \"banana\", \"cherry\" ,\"mango\"}\n",
    "set2 = {\"google\", \"mango\",\"microsoft\", \"apple\"}\n",
    "set3 = set1 & set2  #use the & operator instead of the intersection() method, and you will get the same result.\n",
    "print(set3)    "
   ]
  },
  {
   "cell_type": "markdown",
   "metadata": {},
   "source": [
    "📜 **Finding Differences in Python Sets**\n",
    "This repository provides examples of how to determine differences and symmetric differences between sets using `difference()`, `symmetric_difference()`, `-`, and `^` operators.\n",
    "\n",
    "📌 **Key Concepts**\n",
    "✅ **Difference (`difference()`, `-`)** – Finds elements present in one set but not in another.\n",
    "✅ **Symmetric Difference (`symmetric_difference()`, `^`)** – Finds elements that are unique to each set (not common in both).\n",
    "✅ **Set Operations** – Python provides both method-based and operator-based approaches.\n",
    "\n",
    "### 🔹 **Explanation**\n",
    "- **Using `difference()`**: Returns items that exist in the first set but not in the second.\n",
    "- **Using `-` Operator**: A shorthand alternative to `difference()`.\n",
    "- **Using `symmetric_difference()`**: Finds elements that are in either of the sets but not both.\n",
    "- **Using `^` Operator**: A shorthand for `symmetric_difference()`.\n",
    "\n",
    "\n"
   ]
  },
  {
   "cell_type": "code",
   "execution_count": 8,
   "metadata": {},
   "outputs": [
    {
     "name": "stdout",
     "output_type": "stream",
     "text": [
      " - Operator or Difference  Result are here:\n",
      "{'banana', 'cherry'}\n",
      " Symmetric Difference  Result are here:\n",
      "{'banana', 'google', 'microsoft', 'cherry'}\n"
     ]
    }
   ],
   "source": [
    "\n",
    "#Difference \n",
    "print(\" - Operator or Difference  Result are here:\")\n",
    "set1 = {\"apple\", \"banana\", \"cherry\"}\n",
    "set2 = {\"google\", \"microsoft\", \"apple\"}\n",
    "set3 = set1.difference(set2)  #Keep all items from set1 that are not in set2\n",
    "print(set3)                   # we can use - operator instead of differnce() method.\n",
    "\n",
    "#Symmetric Differences\n",
    "print(\" Symmetric Difference  Result are here:\")\n",
    "set1 = {\"apple\", \"banana\", \"cherry\"}\n",
    "set2 = {\"google\", \"microsoft\", \"apple\"}\n",
    "set3 = set1.symmetric_difference(set2)  #Keep the items that are not present in both sets\n",
    "print(set3)  #You can use the ^ operator instead of the symmetric_difference() method"
   ]
  }
 ],
 "metadata": {
  "kernelspec": {
   "display_name": "Python 3",
   "language": "python",
   "name": "python3"
  },
  "language_info": {
   "codemirror_mode": {
    "name": "ipython",
    "version": 3
   },
   "file_extension": ".py",
   "mimetype": "text/x-python",
   "name": "python",
   "nbconvert_exporter": "python",
   "pygments_lexer": "ipython3",
   "version": "3.10.0"
  }
 },
 "nbformat": 4,
 "nbformat_minor": 2
}
